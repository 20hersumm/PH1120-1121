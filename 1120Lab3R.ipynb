{
 "cells": [
  {
   "cell_type": "markdown",
   "metadata": {},
   "source": [
    "1120 Lab 3R"
   ]
  },
  {
   "cell_type": "code",
   "execution_count": 93,
   "metadata": {},
   "outputs": [],
   "source": [
    "import matplotlib.pyplot as plt\n",
    "import numpy as numpy"
   ]
  },
  {
   "cell_type": "code",
   "execution_count": 94,
   "metadata": {},
   "outputs": [
    {
     "name": "stdout",
     "output_type": "stream",
     "text": [
      "[ 1.33500107  1.13140211  0.78845736  0.47000363  0.09531018 -0.71334989]\n"
     ]
    }
   ],
   "source": [
    "#Data\n",
    "\n",
    "t = numpy.array([3, 3.3, 3.8, 3.96, 4.8, 5.1]) #time in their units\n",
    "dt = (t-t[0]) * (10**(-4))\n",
    "\n",
    "v = numpy.array([3.8,3.1,2.2,1.6,1.1,.49]) #voltage\n",
    "\n",
    "lnv = numpy.log(v) #natural log of the voltage\n",
    "print(lnv)"
   ]
  },
  {
   "cell_type": "code",
   "execution_count": 95,
   "metadata": {},
   "outputs": [
    {
     "data": {
      "text/plain": [
       "[<matplotlib.lines.Line2D at 0x7ff0c7bd4eb8>]"
      ]
     },
     "execution_count": 95,
     "metadata": {},
     "output_type": "execute_result"
    },
    {
     "data": {
      "image/png": "[encoded data removed]",
      "text/plain": [
       "<Figure size 432x288 with 1 Axes>"
      ]
     },
     "metadata": {
      "needs_background": "light"
     },
     "output_type": "display_data"
    }
   ],
   "source": [
    "plt.plot(dt,lnv, 'ro') #uses matplotlib to plot voltage vs current\n",
    "\n",
    "plt.xlim(0-.00001, dt[-1]+.0001)\n",
    "\n",
    "plt.ylim(lnv[-1] - .1, lnv[0]+.1)\n",
    "\n",
    "plt.ylabel('some numbers')\n",
    "plt.xlabel('more numbers')\n",
    "plt.title('title')\n",
    "\n",
    "m, b = numpy.polyfit(dt,lnv,1) #If linear looks like it's the line that fits best\n",
    "plt.plot(lnv, m*lnv + b)"
   ]
  },
  {
   "cell_type": "code",
   "execution_count": 96,
   "metadata": {},
   "outputs": [
    {
     "name": "stdout",
     "output_type": "stream",
     "text": [
      "The slope is:  -8846.210760376998 so the equation of this line is ln(V) =  -8846.210760376998 *I +  1.3965276788241656\n"
     ]
    }
   ],
   "source": [
    "print('The slope is: ',m, 'so the equation of this line is ln(V) = ',m,'*I + ',b)\n",
    "#Please remember to use proper significant figures. "
   ]
  },
  {
   "cell_type": "markdown",
   "metadata": {},
   "source": [
    "R = 200 #Ohms resisistor\n",
    "\n",
    "Remember, m from above is our slope. So we know Slope = -1/RC, and we want to solve for C. Therefore we need to solve for C = - 1/ (m *R). "
   ]
  },
  {
   "cell_type": "code",
   "execution_count": 97,
   "metadata": {},
   "outputs": [
    {
     "name": "stdout",
     "output_type": "stream",
     "text": [
      "5.652137548424084e-07\n",
      "0.005652137548424084\n"
     ]
    }
   ],
   "source": [
    "C = -1/(m*200)\n",
    "print(C)\n",
    "print(C*(10**4))"
   ]
  },
  {
   "cell_type": "code",
   "execution_count": 98,
   "metadata": {},
   "outputs": [
    {
     "data": {
      "text/plain": [
       "[<matplotlib.lines.Line2D at 0x7ff0c7b534e0>]"
      ]
     },
     "execution_count": 98,
     "metadata": {},
     "output_type": "execute_result"
    },
    {
     "data": {
      "image/png": "[encoded data removed]",
      "text/plain": [
       "<Figure size 432x288 with 1 Axes>"
      ]
     },
     "metadata": {
      "needs_background": "light"
     },
     "output_type": "display_data"
    }
   ],
   "source": [
    "plt.plot(dt,lnv, 'ro') #uses matplotlib to plot voltage vs current\n"
   ]
  },
  {
   "cell_type": "code",
   "execution_count": 99,
   "metadata": {},
   "outputs": [
    {
     "data": {
      "text/plain": [
       "5.1"
      ]
     },
     "execution_count": 99,
     "metadata": {},
     "output_type": "execute_result"
    }
   ],
   "source": [
    "t[-1]"
   ]
  },
  {
   "cell_type": "code",
   "execution_count": null,
   "metadata": {},
   "outputs": [],
   "source": []
  }
 ],
 "metadata": {
  "kernelspec": {
   "display_name": "Python 3",
   "language": "python",
   "name": "python3"
  },
  "language_info": {
   "codemirror_mode": {
    "name": "ipython",
    "version": 3
   },
   "file_extension": ".py",
   "mimetype": "text/x-python",
   "name": "python",
   "nbconvert_exporter": "python",
   "pygments_lexer": "ipython3",
   "version": "3.7.0"
  }
 },
 "nbformat": 4,
 "nbformat_minor": 2
}
