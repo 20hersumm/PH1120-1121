{
 "cells": [
  {
   "cell_type": "markdown",
   "metadata": {},
   "source": [
    "1120 Lab 3R"
   ]
  },
  {
   "cell_type": "code",
   "execution_count": 12,
   "metadata": {},
   "outputs": [],
   "source": [
    "import matplotlib.pyplot as plt\n",
    "import numpy as numpy"
   ]
  },
  {
   "cell_type": "code",
   "execution_count": 19,
   "metadata": {},
   "outputs": [],
   "source": [
    "#Data\n",
    "t = numpy.array([0.002, 0.01, 0.13, 0.2]) #time\n",
    "v = numpy.array([3.6,3.1,2.5,1.5]) #voltage\n",
    "\n",
    "lnv = numpy.log(v) #natural log of the voltage"
   ]
  },
  {
   "cell_type": "code",
   "execution_count": 21,
   "metadata": {},
   "outputs": [
    {
     "data": {
      "text/plain": [
       "[<matplotlib.lines.Line2D at 0x7ff4b8d3f6d8>]"
      ]
     },
     "execution_count": 21,
     "metadata": {},
     "output_type": "execute_result"
    },
    {
     "data": {
      "image/png": "[encoded data removed]",
      "text/plain": [
       "<Figure size 432x288 with 1 Axes>"
      ]
     },
     "metadata": {
      "needs_background": "light"
     },
     "output_type": "display_data"
    }
   ],
   "source": [
    "plt.plot(lnv,t, 'ro') #uses matplotlib to plot voltage vs current\n",
    "plt.ylabel('some numbers')\n",
    "plt.xlabel('more numbers')\n",
    "plt.title('title')\n",
    "\n",
    "m, b = numpy.polyfit(lnv,t,1) #If linear looks like it's the line that fits best\n",
    "plt.plot(lnv, m*lnv + b)"
   ]
  },
  {
   "cell_type": "code",
   "execution_count": 22,
   "metadata": {},
   "outputs": [
    {
     "name": "stdout",
     "output_type": "stream",
     "text": [
      "The slope is:  -0.23958982602802903 so the equation of this line is V =  -0.23958982602802903 *I +  0.3091626010001156\n"
     ]
    }
   ],
   "source": [
    "print('The slope is: ',m, 'so the equation of this line is ln(V) = ',m,'*I + ',b)\n",
    "#Please remember to use proper significant figures. "
   ]
  },
  {
   "cell_type": "markdown",
   "metadata": {},
   "source": [
    "R = 200 #Ohms resisistor\n",
    "\n",
    "Remember, m from above is our slope. So we know Slope = -1/RC, and we want to solve for C. Therefore we need to solve for C = 1/ (m *R). "
   ]
  },
  {
   "cell_type": "code",
   "execution_count": null,
   "metadata": {},
   "outputs": [],
   "source": []
  }
 ],
 "metadata": {
  "kernelspec": {
   "display_name": "Python 3",
   "language": "python",
   "name": "python3"
  },
  "language_info": {
   "codemirror_mode": {
    "name": "ipython",
    "version": 3
   },
   "file_extension": ".py",
   "mimetype": "text/x-python",
   "name": "python",
   "nbconvert_exporter": "python",
   "pygments_lexer": "ipython3",
   "version": "3.7.0"
  }
 },
 "nbformat": 4,
 "nbformat_minor": 2
}
